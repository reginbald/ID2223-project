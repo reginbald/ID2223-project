{
 "cells": [
  {
   "cell_type": "code",
   "execution_count": 1,
   "metadata": {},
   "outputs": [],
   "source": [
    "import tensorflow as tf\n",
    "import matplotlib.pyplot as plt \n",
    "import numpy\n",
    "from skimage import color, io\n",
    "from skimage.transform import resize\n",
    "from skimage.io import imsave"
   ]
  },
  {
   "cell_type": "code",
   "execution_count": 2,
   "metadata": {},
   "outputs": [],
   "source": [
    "def loadImage(path):\n",
    "    img = io.imread(path)[:,:,:3]\n",
    "    L = color.rgb2lab(img)[:,:,0]\n",
    "    shape = img.shape\n",
    "    img = resize(img, (256, 256), True)\n",
    "    img = img.reshape((img.shape[0], img.shape[1], 3))\n",
    "    img = img.astype(numpy.float32)\n",
    "    img = color.rgb2lab(img)[:,:,0]\n",
    "    return img.reshape((img.shape[0], img.shape[1], 1)), shape, L"
   ]
  },
  {
   "cell_type": "code",
   "execution_count": null,
   "metadata": {},
   "outputs": [],
   "source": [
    "def loadGraph(frozen_graph_filename):\n",
    "    # We load the protobuf file from the disk and parse it to retrieve the \n",
    "    # unserialized graph_def\n",
    "    with tf.gfile.GFile(frozen_graph_filename, \"rb\") as f:\n",
    "        graph_def = tf.GraphDef()\n",
    "        graph_def.ParseFromString(f.read())\n",
    "\n",
    "    # Then, we import the graph_def into a new Graph and returns it \n",
    "    with tf.Graph().as_default() as graph:\n",
    "        # The name var will prefix every op/nodes in your graph\n",
    "        # Since we load everything in a new graph, this is not needed\n",
    "        tf.import_graph_def(graph_def, name=\"prefix\")\n",
    "    return graph"
   ]
  },
  {
   "cell_type": "code",
   "execution_count": null,
   "metadata": {},
   "outputs": [
    {
     "name": "stderr",
     "output_type": "stream",
     "text": [
      "/usr/local/lib/python2.7/dist-packages/skimage/transform/_warps.py:84: UserWarning: The default mode, 'constant', will be changed to 'reflect' in skimage 0.15.\n",
      "  warn(\"The default mode, 'constant', will be changed to 'reflect' in \"\n"
     ]
    }
   ],
   "source": [
    "img, shape, L = loadImage('woman.jpg')\n",
    "\n",
    "graph = loadGraph(\"model/frozen_model.pb\")\n",
    "\n",
    "x = graph.get_tensor_by_name('prefix/batch:0')\n",
    "y = graph.get_tensor_by_name('prefix/colorized_image:0')\n",
    "\n",
    "with tf.Session(graph=graph) as sess:\n",
    "    y_out = sess.run(y, feed_dict={\n",
    "        x: [img]\n",
    "    })\n",
    "    \n",
    "    rgb = color.lab2rgb(y_out[0].astype(numpy.float64))\n",
    "    rgb = resize(rgb, (shape[0], shape[1]), True)\n",
    "    lab = color.rgb2lab(rgb)\n",
    "    \n",
    "    final = numpy.zeros((shape[0], shape[1], 3))\n",
    "    final[:,:,0] = L\n",
    "    final[:,:,1] = lab[:,:,1]\n",
    "    final[:,:,2] = lab[:,:,2]\n",
    "    \n",
    "    final = color.lab2rgb(final)\n",
    "    \n",
    "    #imsave(\"result.png\", rgb)\n",
    "    \n",
    "    plt.imshow(rgb)\n",
    "    plt.show()"
   ]
  },
  {
   "cell_type": "code",
   "execution_count": null,
   "metadata": {},
   "outputs": [],
   "source": []
  },
  {
   "cell_type": "code",
   "execution_count": null,
   "metadata": {},
   "outputs": [],
   "source": []
  },
  {
   "cell_type": "code",
   "execution_count": null,
   "metadata": {},
   "outputs": [],
   "source": []
  }
 ],
 "metadata": {
  "kernelspec": {
   "display_name": "Python 2",
   "language": "python",
   "name": "python2"
  },
  "language_info": {
   "codemirror_mode": {
    "name": "ipython",
    "version": 2
   },
   "file_extension": ".py",
   "mimetype": "text/x-python",
   "name": "python",
   "nbconvert_exporter": "python",
   "pygments_lexer": "ipython2",
   "version": "2.7.12"
  }
 },
 "nbformat": 4,
 "nbformat_minor": 2
}
