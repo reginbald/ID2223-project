{
 "cells": [
  {
   "cell_type": "code",
   "execution_count": null,
   "metadata": {},
   "outputs": [],
   "source": [
    "# Imports\n",
    "import tensorflow as tf\n",
    "import matplotlib.pyplot as plt \n",
    "import matplotlib.image as mpimg\n",
    "import os\n",
    "import numpy as np\n",
    "from skimage import color, io\n",
    "from skimage.io import imsave"
   ]
  },
  {
   "cell_type": "code",
   "execution_count": null,
   "metadata": {},
   "outputs": [],
   "source": [
    "def convertToLab(image):\n",
    "    lab = color.rgb2lab(image)\n",
    "    X_batch = lab[:,:,0]\n",
    "    Y_batch = lab[:,:,1:] / 128\n",
    "    return X_batch.reshape(X_batch.shape+(1,)), Y_batch\n",
    "\n",
    "def parseImage(filename):\n",
    "    image = tf.read_file(filename)\n",
    "    image = tf.image.decode_jpeg(image, channels=3)\n",
    "    image = tf.image.resize_images(image, [400, 400], tf.image.ResizeMethod.NEAREST_NEIGHBOR)\n",
    "    image = tf.image.convert_image_dtype(image, tf.float32)\n",
    "    return image"
   ]
  },
  {
   "cell_type": "code",
   "execution_count": null,
   "metadata": {},
   "outputs": [],
   "source": [
    "file_test_paths = ['woman.jpg']\n",
    "\n",
    "dataset = tf.data.Dataset.from_tensor_slices(file_test_paths)\n",
    "dataset = dataset.map(parseImage)\n",
    "dataset = dataset.map(lambda image: \n",
    "    tuple(tf.py_func(\n",
    "        convertToLab, [image], [tf.double, tf.double]\n",
    "    ))\n",
    ")\n",
    "dataset = dataset.batch(1)\n",
    "\n",
    "iterator = dataset.make_one_shot_iterator()"
   ]
  },
  {
   "cell_type": "code",
   "execution_count": null,
   "metadata": {},
   "outputs": [],
   "source": [
    "def conv2DRelu(X, W, B, strides, padding):\n",
    "    # strides: [batch_step, height_step, width_step, channel_step] \n",
    "    return tf.nn.relu(tf.nn.conv2d(X, W, strides=strides, padding=padding) + B)\n",
    "\n",
    "def conv2DTanh(X, W, B, strides, padding):\n",
    "    # strides: [batch_step, height_step, width_step, channel_step] \n",
    "    return tf.nn.tanh(tf.nn.conv2d(X, W, strides=strides, padding=padding) + B)\n",
    "\n",
    "def weight(width, height, input_channels, output_channels):\n",
    "    # [width, height, input channel, output channel]\n",
    "    return tf.Variable(tf.truncated_normal([width, height, input_channels, output_channels], stddev=0.1))\n",
    "\n",
    "def bias(outputChannels):\n",
    "    return tf.Variable(tf.zeros([outputChannels])) # bias for each output channel.\n",
    "\n",
    "def upSampling2D(X, height, width):\n",
    "    return tf.image.resize_images(X, [height, width], tf.image.ResizeMethod.NEAREST_NEIGHBOR)\n",
    "\n",
    "def upSampleToOriginalSize(X, size):\n",
    "    return tf.image.resize_images(X, size, tf.image.ResizeMethod.NEAREST_NEIGHBOR)\n",
    "\n",
    "def Conv2D(X, input_channels, output_channels, scan=3, activation='relu', padding='SAME', strides=1):\n",
    "    W = weight(scan, scan, input_channels, output_channels)\n",
    "    B = bias(output_channels)\n",
    "    if activation == 'relu':\n",
    "        return conv2DRelu(X, W, B, [1,strides,strides,1], padding)\n",
    "    else:\n",
    "        return conv2DTanh(X, W, B, [1,strides,strides,1], padding)"
   ]
  },
  {
   "cell_type": "code",
   "execution_count": null,
   "metadata": {},
   "outputs": [],
   "source": [
    "Y_ = tf.placeholder(tf.float32, shape=[None, 400, 400, 2]) # True Value\n",
    "X = tf.placeholder(tf.float32, shape=[None, 400, 400, 1]) # Input\n",
    "\n",
    "Y1 = Conv2D(X, 1, 8, 3, 'relu', 'SAME', 2)\n",
    "Y2 = Conv2D(Y1, 8, 8, 3, 'relu', 'SAME', 1)\n",
    "Y3 = Conv2D(Y2, 8, 16, 3, 'relu', 'SAME', 1)\n",
    "Y4 = Conv2D(Y3, 16, 16, 3, 'relu', 'SAME', 2)\n",
    "Y5 = Conv2D(Y4, 16, 32, 3, 'relu', 'SAME', 1)\n",
    "Y6 = Conv2D(Y5, 32, 32, 3, 'relu', 'SAME', 2)\n",
    "Y7 = upSampling2D(Y6, 100, 100)\n",
    "Y8 = Conv2D(Y7, 32, 32, 3, 'relu', 'SAME', 1)\n",
    "Y9 = upSampling2D(Y8, 200, 200)\n",
    "Y10 = Conv2D(Y9, 32, 16, 3, 'relu', 'SAME', 1)\n",
    "Y11 = upSampling2D(Y10, 400, 400)\n",
    "Y12 = Conv2D(Y11, 16, 2, 3, 'tanh', 'SAME', 1)"
   ]
  },
  {
   "cell_type": "code",
   "execution_count": null,
   "metadata": {},
   "outputs": [],
   "source": [
    "# Define the loss function \n",
    "loss = tf.reduce_mean(tf.squared_difference(Y12, Y_), 1) \n",
    "\n",
    "# Define an optimizer\n",
    "optimizer = tf.train.RMSPropOptimizer(0.001).minimize(loss)"
   ]
  },
  {
   "cell_type": "code",
   "execution_count": null,
   "metadata": {},
   "outputs": [],
   "source": [
    "init = tf.global_variables_initializer()\n",
    "next_element = iterator.get_next()\n",
    "saver = tf.train.Saver()\n",
    "\n",
    "with tf.Session() as sess:\n",
    "  \n",
    "    # initialize the variables\n",
    "    sess.run(init)\n",
    "\n",
    "    # initialize the queue threads to start to shovel data\n",
    "    coord = tf.train.Coordinator()\n",
    "    threads = tf.train.start_queue_runners(coord=coord)\n",
    "\n",
    "    print \"from the train set:\"\n",
    "    # images, labels = iterator.get_next()\n",
    "    step = 0\n",
    "    while True:\n",
    "        \n",
    "        try:\n",
    "            elem = sess.run(next_element)\n",
    "            print \"Step:\", step\n",
    "            for i in range(1000):\n",
    "                print \"Round:\", i\n",
    "                _, luss = sess.run([optimizer, loss], feed_dict={\n",
    "                    X: elem[0], Y_: elem[1]\n",
    "                })\n",
    "                print \"Loss:\", luss[0][0][0]\n",
    "            step += 1\n",
    "        except tf.errors.OutOfRangeError:\n",
    "            saver.save(sess, './model/' + 'model.ckpt', global_step=step+1)\n",
    "            print(\"End of training dataset.\")\n",
    "            break\n",
    "            \n",
    "    # stop our queue threads and properly close the session\n",
    "    coord.request_stop()\n",
    "    coord.join(threads)\n",
    "    sess.close()"
   ]
  },
  {
   "cell_type": "code",
   "execution_count": null,
   "metadata": {},
   "outputs": [],
   "source": [
    "file_test_paths = ['woman.jpg']\n",
    "\n",
    "testDataset = tf.data.Dataset.from_tensor_slices(file_test_paths)\n",
    "testDataset = testDataset.map(parseImage)\n",
    "testDataset = testDataset.map(lambda image: \n",
    "    tuple(tf.py_func(\n",
    "        convertToLab, [image], [tf.double, tf.double]\n",
    "    ))\n",
    ")\n",
    "testDataset = testDataset.batch(1)\n",
    "\n",
    "testIterator = testDataset.make_one_shot_iterator()"
   ]
  },
  {
   "cell_type": "code",
   "execution_count": null,
   "metadata": {},
   "outputs": [],
   "source": [
    "def plotImage(image):\n",
    "    plt.imshow(image) \n",
    "    plt.show()"
   ]
  },
  {
   "cell_type": "code",
   "execution_count": null,
   "metadata": {},
   "outputs": [],
   "source": [
    "next_element = testIterator.get_next()\n",
    "with tf.Session() as session:\n",
    "    elem = session.run(next_element)\n",
    "    ckpt = tf.train.get_checkpoint_state('./model/')\n",
    "    saver.restore(session, ckpt.model_checkpoint_path)\n",
    "    feed_dict = {X: elem[0], Y_: elem[1]}\n",
    "    _, ab = session.run([optimizer, Y12], feed_dict)\n",
    "    \n",
    "    # Colorize output\n",
    "    ab = ab * 128\n",
    "    \n",
    "    cur = np.zeros((400, 400, 3))\n",
    "    cur[:,:,0] = elem[0][0][:,:,0]\n",
    "    cur[:,:,1:] = ab[0]\n",
    "    print \"PRINTING\"\n",
    "    imsave(\"okkar_result.png\", color.lab2rgb(cur))\n",
    "    imsave(\"okkar_gray_version.png\", color.rgb2gray(color.lab2rgb(cur)))"
   ]
  },
  {
   "cell_type": "code",
   "execution_count": null,
   "metadata": {},
   "outputs": [],
   "source": []
  },
  {
   "cell_type": "code",
   "execution_count": null,
   "metadata": {},
   "outputs": [],
   "source": []
  }
 ],
 "metadata": {
  "kernelspec": {
   "display_name": "Python 2",
   "language": "python",
   "name": "python2"
  },
  "language_info": {
   "codemirror_mode": {
    "name": "ipython",
    "version": 2
   },
   "file_extension": ".py",
   "mimetype": "text/x-python",
   "name": "python",
   "nbconvert_exporter": "python",
   "pygments_lexer": "ipython2",
   "version": "2.7.12"
  }
 },
 "nbformat": 4,
 "nbformat_minor": 2
}
