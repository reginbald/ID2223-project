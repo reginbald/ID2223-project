{
 "cells": [
  {
   "cell_type": "code",
   "execution_count": null,
   "metadata": {
    "collapsed": false,
    "deletable": true,
    "editable": true
   },
   "outputs": [
    {
     "name": "stdout",
     "output_type": "stream",
     "text": [
      "Starting Spark application\n"
     ]
    },
    {
     "data": {
      "text/html": [
       "<table>\n",
       "<tr><th>ID</th><th>YARN Application ID</th><th>Kind</th><th>State</th><th>Spark UI</th><th>Driver log</th><th>Current session?</th></tr><tr><td>6582</td><td>application_1513605045578_4098</td><td>pyspark</td><td>idle</td><td><a target=\"_blank\" href=\"http://hadoop30:8088/proxy/application_1513605045578_4098/\">Link</a></td><td><a target=\"_blank\" href=\"http://hadoop5:8042/node/containerlogs/container_e28_1513605045578_4098_01_000001/colorizeML2__jriv0000\">Link</a></td><td>✔</td></tr></table>"
      ],
      "text/plain": [
       "<IPython.core.display.HTML object>"
      ]
     },
     "metadata": {},
     "output_type": "display_data"
    },
    {
     "name": "stdout",
     "output_type": "stream",
     "text": [
      "SparkSession available as 'spark'.\n"
     ]
    }
   ],
   "source": [
    "'''\n",
    "REMEMBER TO INCREASE THE RAM\n",
    "REMEMBER TO INCLUDE THE JAR FILE: tensorflow-hadoop-1.0-SNAPSHOT.jar\n",
    "'''\n",
    "\n",
    "from __future__ import absolute_import\n",
    "from __future__ import division\n",
    "from __future__ import print_function\n",
    "\n",
    "import tensorflow as tf\n",
    "from array import array\n",
    "from hops import hdfs\n",
    "\n",
    "import numpy as np\n",
    "from PIL import Image\n",
    "import io\n",
    "from skimage.color import rgb2lab\n",
    "\n",
    "def is_grey_scale(array, w, h):\n",
    "    for i in range(w):\n",
    "        for j in range(h):\n",
    "            r,g,b = array[i,j,:]\n",
    "            if r != g != b: return False\n",
    "    return True\n",
    "\n",
    "def readImages(sc, folder):\n",
    "    imageRDD = sc.binaryFiles(folder)\n",
    "    imageRDD = imageRDD.map(lambda binaryData: binaryData[1])\n",
    "    imageRDD = imageRDD.map(lambda rawData: Image.open(io.BytesIO(rawData)))\n",
    "    imageRDD = imageRDD.map(lambda image: image.resize((256,256), Image.ANTIALIAS))\n",
    "    imageRDD = imageRDD.map(lambda image: np.array(image, dtype=float))\n",
    "    imageRDD = imageRDD.filter(lambda array: array.shape == (256, 256, 3))\n",
    "    imageRDD = imageRDD.filter(lambda array: not is_grey_scale(array, 256, 256))\n",
    "    imageRDD = imageRDD.map(lambda array: rgb2lab(array))\n",
    "    imageRDD = imageRDD.map(lambda lab: (lab[:,:,0], lab[:,:,1], lab[:,:,2]))\n",
    "    imageRDD = imageRDD.map(lambda (L, A, B): (L.reshape(L.shape+(1,)), A, B))\n",
    "    imageRDD = imageRDD.map(lambda (L, A, B): (\n",
    "        L.reshape(L.shape[0] * L.shape[1]),\n",
    "        A.reshape(A.shape[0] * A.shape[1]),\n",
    "        B.reshape(B.shape[0] * B.shape[1])\n",
    "    ))\n",
    "\n",
    "    return imageRDD\n",
    "\n",
    "def toTFExample(L, A, B):\n",
    "    \"\"\"Serializes an image/label as a TFExample byte string\"\"\"\n",
    "    example = tf.train.Example(\n",
    "        features = tf.train.Features(\n",
    "            feature = {\n",
    "                'L': tf.train.Feature(float_list=tf.train.FloatList(value=L)),\n",
    "                'A': tf.train.Feature(float_list=tf.train.FloatList(value=A)),\n",
    "                'B': tf.train.Feature(float_list=tf.train.FloatList(value=B))\n",
    "            }\n",
    "        )\n",
    "    )\n",
    "    return example.SerializeToString()\n",
    "\n",
    "def fromTFExample(bytestr):\n",
    "    \"\"\"Deserializes a TFExample from a byte string\"\"\"\n",
    "    example = tf.train.Example()\n",
    "    example.ParseFromString(bytestr)\n",
    "    return example\n",
    "\n",
    "def writeTFRECORDS(sc, input_dir,  output_dir):\n",
    "    imageRDD = readImages(sc, input_dir)\n",
    "    \n",
    "    tfRDD = imageRDD.map(lambda (L, A, B): (bytearray(toTFExample(L, A, B)), None))\n",
    "    tfRDD.saveAsNewAPIHadoopFile(output_dir, \"org.tensorflow.hadoop.io.TFRecordFileOutputFormat\",\n",
    "                                keyClass=\"org.apache.hadoop.io.BytesWritable\",\n",
    "                                valueClass=\"org.apache.hadoop.io.NullWritable\")"
   ]
  },
  {
   "cell_type": "code",
   "execution_count": null,
   "metadata": {
    "collapsed": false,
    "deletable": true,
    "editable": true,
    "scrolled": false
   },
   "outputs": [],
   "source": [
    "from pyspark.context import SparkContext\n",
    "from pyspark.conf import SparkConf\n",
    "\n",
    "sc = spark.sparkContext\n",
    "\n",
    "writeTFRECORDS(\n",
    "    sc, #spark context\n",
    "    \"hdfs:///Projects/colorizeML2/LaMem_Image_Dataset/lamem/images/*.jpg\", #input\n",
    "    \"hdfs:///Projects/colorizeML2/LaMem_Image_Dataset/processed\" #output\n",
    ")"
   ]
  },
  {
   "cell_type": "code",
   "execution_count": null,
   "metadata": {
    "collapsed": true,
    "deletable": true,
    "editable": true
   },
   "outputs": [],
   "source": []
  }
 ],
 "metadata": {
  "kernelspec": {
   "display_name": "PySpark",
   "language": "",
   "name": "pysparkkernel"
  },
  "language_info": {
   "codemirror_mode": {
    "name": "python",
    "version": 2
   },
   "mimetype": "text/x-python",
   "name": "pyspark",
   "pygments_lexer": "python2"
  }
 },
 "nbformat": 4,
 "nbformat_minor": 2
}
